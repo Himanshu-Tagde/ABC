{
  "nbformat": 4,
  "nbformat_minor": 0,
  "metadata": {
    "colab": {
      "provenance": [],
      "authorship_tag": "ABX9TyPyA3UJJdqqtOREiXbNv1KA",
      "include_colab_link": true
    },
    "kernelspec": {
      "name": "python3",
      "display_name": "Python 3"
    },
    "language_info": {
      "name": "python"
    },
    "widgets": {
      "application/vnd.jupyter.widget-state+json": {
        "553e8312a03448dca3462289319053cb": {
          "model_module": "@jupyter-widgets/controls",
          "model_name": "TextareaModel",
          "model_module_version": "1.5.0",
          "state": {
            "_dom_classes": [],
            "_model_module": "@jupyter-widgets/controls",
            "_model_module_version": "1.5.0",
            "_model_name": "TextareaModel",
            "_view_count": null,
            "_view_module": "@jupyter-widgets/controls",
            "_view_module_version": "1.5.0",
            "_view_name": "TextareaView",
            "continuous_update": true,
            "description": "Question:",
            "description_tooltip": null,
            "disabled": true,
            "layout": "IPY_MODEL_285f08262796418d8e798e4fb990256d",
            "placeholder": "​",
            "rows": null,
            "style": "IPY_MODEL_a4e88a7fa5404a318df98b46739026c9",
            "value": "You choose to quit the game. Thanks for playing!"
          }
        },
        "285f08262796418d8e798e4fb990256d": {
          "model_module": "@jupyter-widgets/base",
          "model_name": "LayoutModel",
          "model_module_version": "1.2.0",
          "state": {
            "_model_module": "@jupyter-widgets/base",
            "_model_module_version": "1.2.0",
            "_model_name": "LayoutModel",
            "_view_count": null,
            "_view_module": "@jupyter-widgets/base",
            "_view_module_version": "1.2.0",
            "_view_name": "LayoutView",
            "align_content": null,
            "align_items": null,
            "align_self": null,
            "border": null,
            "bottom": null,
            "display": null,
            "flex": null,
            "flex_flow": null,
            "grid_area": null,
            "grid_auto_columns": null,
            "grid_auto_flow": null,
            "grid_auto_rows": null,
            "grid_column": null,
            "grid_gap": null,
            "grid_row": null,
            "grid_template_areas": null,
            "grid_template_columns": null,
            "grid_template_rows": null,
            "height": null,
            "justify_content": null,
            "justify_items": null,
            "left": null,
            "margin": null,
            "max_height": null,
            "max_width": null,
            "min_height": null,
            "min_width": null,
            "object_fit": null,
            "object_position": null,
            "order": null,
            "overflow": null,
            "overflow_x": null,
            "overflow_y": null,
            "padding": null,
            "right": null,
            "top": null,
            "visibility": null,
            "width": "auto"
          }
        },
        "a4e88a7fa5404a318df98b46739026c9": {
          "model_module": "@jupyter-widgets/controls",
          "model_name": "DescriptionStyleModel",
          "model_module_version": "1.5.0",
          "state": {
            "_model_module": "@jupyter-widgets/controls",
            "_model_module_version": "1.5.0",
            "_model_name": "DescriptionStyleModel",
            "_view_count": null,
            "_view_module": "@jupyter-widgets/base",
            "_view_module_version": "1.2.0",
            "_view_name": "StyleView",
            "description_width": ""
          }
        },
        "b15173ecc5304cf39f94db614a76fd91": {
          "model_module": "@jupyter-widgets/controls",
          "model_name": "IntTextModel",
          "model_module_version": "1.5.0",
          "state": {
            "_dom_classes": [],
            "_model_module": "@jupyter-widgets/controls",
            "_model_module_version": "1.5.0",
            "_model_name": "IntTextModel",
            "_view_count": null,
            "_view_module": "@jupyter-widgets/controls",
            "_view_module_version": "1.5.0",
            "_view_name": "IntTextView",
            "continuous_update": false,
            "description": "Your Answer:",
            "description_tooltip": null,
            "disabled": false,
            "layout": "IPY_MODEL_b07ad1fd5d0d41dea6cd6cd1f30e9cd2",
            "step": 1,
            "style": "IPY_MODEL_b5fdac24aafd470e9acd34573864a6a5",
            "value": 6
          }
        },
        "b07ad1fd5d0d41dea6cd6cd1f30e9cd2": {
          "model_module": "@jupyter-widgets/base",
          "model_name": "LayoutModel",
          "model_module_version": "1.2.0",
          "state": {
            "_model_module": "@jupyter-widgets/base",
            "_model_module_version": "1.2.0",
            "_model_name": "LayoutModel",
            "_view_count": null,
            "_view_module": "@jupyter-widgets/base",
            "_view_module_version": "1.2.0",
            "_view_name": "LayoutView",
            "align_content": null,
            "align_items": null,
            "align_self": null,
            "border": null,
            "bottom": null,
            "display": null,
            "flex": null,
            "flex_flow": null,
            "grid_area": null,
            "grid_auto_columns": null,
            "grid_auto_flow": null,
            "grid_auto_rows": null,
            "grid_column": null,
            "grid_gap": null,
            "grid_row": null,
            "grid_template_areas": null,
            "grid_template_columns": null,
            "grid_template_rows": null,
            "height": null,
            "justify_content": null,
            "justify_items": null,
            "left": null,
            "margin": null,
            "max_height": null,
            "max_width": null,
            "min_height": null,
            "min_width": null,
            "object_fit": null,
            "object_position": null,
            "order": null,
            "overflow": null,
            "overflow_x": null,
            "overflow_y": null,
            "padding": null,
            "right": null,
            "top": null,
            "visibility": null,
            "width": null
          }
        },
        "b5fdac24aafd470e9acd34573864a6a5": {
          "model_module": "@jupyter-widgets/controls",
          "model_name": "DescriptionStyleModel",
          "model_module_version": "1.5.0",
          "state": {
            "_model_module": "@jupyter-widgets/controls",
            "_model_module_version": "1.5.0",
            "_model_name": "DescriptionStyleModel",
            "_view_count": null,
            "_view_module": "@jupyter-widgets/base",
            "_view_module_version": "1.2.0",
            "_view_name": "StyleView",
            "description_width": ""
          }
        },
        "3e171fda39c74630bd512fca927ca14b": {
          "model_module": "@jupyter-widgets/controls",
          "model_name": "ButtonModel",
          "model_module_version": "1.5.0",
          "state": {
            "_dom_classes": [],
            "_model_module": "@jupyter-widgets/controls",
            "_model_module_version": "1.5.0",
            "_model_name": "ButtonModel",
            "_view_count": null,
            "_view_module": "@jupyter-widgets/controls",
            "_view_module_version": "1.5.0",
            "_view_name": "ButtonView",
            "button_style": "",
            "description": "Submit Answer",
            "disabled": true,
            "icon": "",
            "layout": "IPY_MODEL_9d06e30931b245ee970583123dd439e9",
            "style": "IPY_MODEL_31786997be39468b89a5ffcf0d0bd3ff",
            "tooltip": ""
          }
        },
        "9d06e30931b245ee970583123dd439e9": {
          "model_module": "@jupyter-widgets/base",
          "model_name": "LayoutModel",
          "model_module_version": "1.2.0",
          "state": {
            "_model_module": "@jupyter-widgets/base",
            "_model_module_version": "1.2.0",
            "_model_name": "LayoutModel",
            "_view_count": null,
            "_view_module": "@jupyter-widgets/base",
            "_view_module_version": "1.2.0",
            "_view_name": "LayoutView",
            "align_content": null,
            "align_items": null,
            "align_self": null,
            "border": null,
            "bottom": null,
            "display": null,
            "flex": null,
            "flex_flow": null,
            "grid_area": null,
            "grid_auto_columns": null,
            "grid_auto_flow": null,
            "grid_auto_rows": null,
            "grid_column": null,
            "grid_gap": null,
            "grid_row": null,
            "grid_template_areas": null,
            "grid_template_columns": null,
            "grid_template_rows": null,
            "height": null,
            "justify_content": null,
            "justify_items": null,
            "left": null,
            "margin": null,
            "max_height": null,
            "max_width": null,
            "min_height": null,
            "min_width": null,
            "object_fit": null,
            "object_position": null,
            "order": null,
            "overflow": null,
            "overflow_x": null,
            "overflow_y": null,
            "padding": null,
            "right": null,
            "top": null,
            "visibility": null,
            "width": null
          }
        },
        "31786997be39468b89a5ffcf0d0bd3ff": {
          "model_module": "@jupyter-widgets/controls",
          "model_name": "ButtonStyleModel",
          "model_module_version": "1.5.0",
          "state": {
            "_model_module": "@jupyter-widgets/controls",
            "_model_module_version": "1.5.0",
            "_model_name": "ButtonStyleModel",
            "_view_count": null,
            "_view_module": "@jupyter-widgets/base",
            "_view_module_version": "1.2.0",
            "_view_name": "StyleView",
            "button_color": null,
            "font_weight": ""
          }
        },
        "6d585f8ebb6d4802b84820faf9d25839": {
          "model_module": "@jupyter-widgets/controls",
          "model_name": "ButtonModel",
          "model_module_version": "1.5.0",
          "state": {
            "_dom_classes": [],
            "_model_module": "@jupyter-widgets/controls",
            "_model_module_version": "1.5.0",
            "_model_name": "ButtonModel",
            "_view_count": null,
            "_view_module": "@jupyter-widgets/controls",
            "_view_module_version": "1.5.0",
            "_view_name": "ButtonView",
            "button_style": "",
            "description": "Quit Game",
            "disabled": true,
            "icon": "",
            "layout": "IPY_MODEL_6e504fa397664da0a9e5e65615a1be01",
            "style": "IPY_MODEL_bdc41fa06af748d186419d2cb75fecb6",
            "tooltip": ""
          }
        },
        "6e504fa397664da0a9e5e65615a1be01": {
          "model_module": "@jupyter-widgets/base",
          "model_name": "LayoutModel",
          "model_module_version": "1.2.0",
          "state": {
            "_model_module": "@jupyter-widgets/base",
            "_model_module_version": "1.2.0",
            "_model_name": "LayoutModel",
            "_view_count": null,
            "_view_module": "@jupyter-widgets/base",
            "_view_module_version": "1.2.0",
            "_view_name": "LayoutView",
            "align_content": null,
            "align_items": null,
            "align_self": null,
            "border": null,
            "bottom": null,
            "display": null,
            "flex": null,
            "flex_flow": null,
            "grid_area": null,
            "grid_auto_columns": null,
            "grid_auto_flow": null,
            "grid_auto_rows": null,
            "grid_column": null,
            "grid_gap": null,
            "grid_row": null,
            "grid_template_areas": null,
            "grid_template_columns": null,
            "grid_template_rows": null,
            "height": null,
            "justify_content": null,
            "justify_items": null,
            "left": null,
            "margin": null,
            "max_height": null,
            "max_width": null,
            "min_height": null,
            "min_width": null,
            "object_fit": null,
            "object_position": null,
            "order": null,
            "overflow": null,
            "overflow_x": null,
            "overflow_y": null,
            "padding": null,
            "right": null,
            "top": null,
            "visibility": null,
            "width": null
          }
        },
        "bdc41fa06af748d186419d2cb75fecb6": {
          "model_module": "@jupyter-widgets/controls",
          "model_name": "ButtonStyleModel",
          "model_module_version": "1.5.0",
          "state": {
            "_model_module": "@jupyter-widgets/controls",
            "_model_module_version": "1.5.0",
            "_model_name": "ButtonStyleModel",
            "_view_count": null,
            "_view_module": "@jupyter-widgets/base",
            "_view_module_version": "1.2.0",
            "_view_name": "StyleView",
            "button_color": null,
            "font_weight": ""
          }
        },
        "8448e2a3abca4db7aa796d0375c8762a": {
          "model_module": "@jupyter-widgets/controls",
          "model_name": "LabelModel",
          "model_module_version": "1.5.0",
          "state": {
            "_dom_classes": [],
            "_model_module": "@jupyter-widgets/controls",
            "_model_module_version": "1.5.0",
            "_model_name": "LabelModel",
            "_view_count": null,
            "_view_module": "@jupyter-widgets/controls",
            "_view_module_version": "1.5.0",
            "_view_name": "LabelView",
            "description": "",
            "description_tooltip": null,
            "layout": "IPY_MODEL_5dcc81c30d16494c92e18851a7023c05",
            "placeholder": "​",
            "style": "IPY_MODEL_aeb586a7dc6c40b596c137b3b569b769",
            "value": "Your current score: 2"
          }
        },
        "5dcc81c30d16494c92e18851a7023c05": {
          "model_module": "@jupyter-widgets/base",
          "model_name": "LayoutModel",
          "model_module_version": "1.2.0",
          "state": {
            "_model_module": "@jupyter-widgets/base",
            "_model_module_version": "1.2.0",
            "_model_name": "LayoutModel",
            "_view_count": null,
            "_view_module": "@jupyter-widgets/base",
            "_view_module_version": "1.2.0",
            "_view_name": "LayoutView",
            "align_content": null,
            "align_items": null,
            "align_self": null,
            "border": null,
            "bottom": null,
            "display": null,
            "flex": null,
            "flex_flow": null,
            "grid_area": null,
            "grid_auto_columns": null,
            "grid_auto_flow": null,
            "grid_auto_rows": null,
            "grid_column": null,
            "grid_gap": null,
            "grid_row": null,
            "grid_template_areas": null,
            "grid_template_columns": null,
            "grid_template_rows": null,
            "height": null,
            "justify_content": null,
            "justify_items": null,
            "left": null,
            "margin": null,
            "max_height": null,
            "max_width": null,
            "min_height": null,
            "min_width": null,
            "object_fit": null,
            "object_position": null,
            "order": null,
            "overflow": null,
            "overflow_x": null,
            "overflow_y": null,
            "padding": null,
            "right": null,
            "top": null,
            "visibility": null,
            "width": null
          }
        },
        "aeb586a7dc6c40b596c137b3b569b769": {
          "model_module": "@jupyter-widgets/controls",
          "model_name": "DescriptionStyleModel",
          "model_module_version": "1.5.0",
          "state": {
            "_model_module": "@jupyter-widgets/controls",
            "_model_module_version": "1.5.0",
            "_model_name": "DescriptionStyleModel",
            "_view_count": null,
            "_view_module": "@jupyter-widgets/base",
            "_view_module_version": "1.2.0",
            "_view_name": "StyleView",
            "description_width": ""
          }
        }
      }
    }
  },
  "cells": [
    {
      "cell_type": "markdown",
      "metadata": {
        "id": "view-in-github",
        "colab_type": "text"
      },
      "source": [
        "<a href=\"https://colab.research.google.com/github/Himanshu-Tagde/ABC/blob/main/no%26shapes.ipynb\" target=\"_parent\"><img src=\"https://colab.research.google.com/assets/colab-badge.svg\" alt=\"Open In Colab\"/></a>"
      ]
    },
    {
      "cell_type": "code",
      "execution_count": 1,
      "metadata": {
        "colab": {
          "base_uri": "https://localhost:8080/"
        },
        "id": "_uB__3m2ErTU",
        "outputId": "19fa9ef2-6249-4a03-c9b9-8e0b8da2d99e"
      },
      "outputs": [
        {
          "output_type": "stream",
          "name": "stdout",
          "text": [
            "Requirement already satisfied: tensorflow in /usr/local/lib/python3.10/dist-packages (2.17.1)\n",
            "Requirement already satisfied: absl-py>=1.0.0 in /usr/local/lib/python3.10/dist-packages (from tensorflow) (1.4.0)\n",
            "Requirement already satisfied: astunparse>=1.6.0 in /usr/local/lib/python3.10/dist-packages (from tensorflow) (1.6.3)\n",
            "Requirement already satisfied: flatbuffers>=24.3.25 in /usr/local/lib/python3.10/dist-packages (from tensorflow) (24.3.25)\n",
            "Requirement already satisfied: gast!=0.5.0,!=0.5.1,!=0.5.2,>=0.2.1 in /usr/local/lib/python3.10/dist-packages (from tensorflow) (0.6.0)\n",
            "Requirement already satisfied: google-pasta>=0.1.1 in /usr/local/lib/python3.10/dist-packages (from tensorflow) (0.2.0)\n",
            "Requirement already satisfied: h5py>=3.10.0 in /usr/local/lib/python3.10/dist-packages (from tensorflow) (3.12.1)\n",
            "Requirement already satisfied: libclang>=13.0.0 in /usr/local/lib/python3.10/dist-packages (from tensorflow) (18.1.1)\n",
            "Requirement already satisfied: ml-dtypes<0.5.0,>=0.3.1 in /usr/local/lib/python3.10/dist-packages (from tensorflow) (0.4.1)\n",
            "Requirement already satisfied: opt-einsum>=2.3.2 in /usr/local/lib/python3.10/dist-packages (from tensorflow) (3.4.0)\n",
            "Requirement already satisfied: packaging in /usr/local/lib/python3.10/dist-packages (from tensorflow) (24.2)\n",
            "Requirement already satisfied: protobuf!=4.21.0,!=4.21.1,!=4.21.2,!=4.21.3,!=4.21.4,!=4.21.5,<5.0.0dev,>=3.20.3 in /usr/local/lib/python3.10/dist-packages (from tensorflow) (4.25.5)\n",
            "Requirement already satisfied: requests<3,>=2.21.0 in /usr/local/lib/python3.10/dist-packages (from tensorflow) (2.32.3)\n",
            "Requirement already satisfied: setuptools in /usr/local/lib/python3.10/dist-packages (from tensorflow) (75.1.0)\n",
            "Requirement already satisfied: six>=1.12.0 in /usr/local/lib/python3.10/dist-packages (from tensorflow) (1.17.0)\n",
            "Requirement already satisfied: termcolor>=1.1.0 in /usr/local/lib/python3.10/dist-packages (from tensorflow) (2.5.0)\n",
            "Requirement already satisfied: typing-extensions>=3.6.6 in /usr/local/lib/python3.10/dist-packages (from tensorflow) (4.12.2)\n",
            "Requirement already satisfied: wrapt>=1.11.0 in /usr/local/lib/python3.10/dist-packages (from tensorflow) (1.17.0)\n",
            "Requirement already satisfied: grpcio<2.0,>=1.24.3 in /usr/local/lib/python3.10/dist-packages (from tensorflow) (1.68.1)\n",
            "Requirement already satisfied: tensorboard<2.18,>=2.17 in /usr/local/lib/python3.10/dist-packages (from tensorflow) (2.17.1)\n",
            "Requirement already satisfied: keras>=3.2.0 in /usr/local/lib/python3.10/dist-packages (from tensorflow) (3.5.0)\n",
            "Requirement already satisfied: tensorflow-io-gcs-filesystem>=0.23.1 in /usr/local/lib/python3.10/dist-packages (from tensorflow) (0.37.1)\n",
            "Requirement already satisfied: numpy<2.0.0,>=1.23.5 in /usr/local/lib/python3.10/dist-packages (from tensorflow) (1.26.4)\n",
            "Requirement already satisfied: wheel<1.0,>=0.23.0 in /usr/local/lib/python3.10/dist-packages (from astunparse>=1.6.0->tensorflow) (0.45.1)\n",
            "Requirement already satisfied: rich in /usr/local/lib/python3.10/dist-packages (from keras>=3.2.0->tensorflow) (13.9.4)\n",
            "Requirement already satisfied: namex in /usr/local/lib/python3.10/dist-packages (from keras>=3.2.0->tensorflow) (0.0.8)\n",
            "Requirement already satisfied: optree in /usr/local/lib/python3.10/dist-packages (from keras>=3.2.0->tensorflow) (0.13.1)\n",
            "Requirement already satisfied: charset-normalizer<4,>=2 in /usr/local/lib/python3.10/dist-packages (from requests<3,>=2.21.0->tensorflow) (3.4.0)\n",
            "Requirement already satisfied: idna<4,>=2.5 in /usr/local/lib/python3.10/dist-packages (from requests<3,>=2.21.0->tensorflow) (3.10)\n",
            "Requirement already satisfied: urllib3<3,>=1.21.1 in /usr/local/lib/python3.10/dist-packages (from requests<3,>=2.21.0->tensorflow) (2.2.3)\n",
            "Requirement already satisfied: certifi>=2017.4.17 in /usr/local/lib/python3.10/dist-packages (from requests<3,>=2.21.0->tensorflow) (2024.12.14)\n",
            "Requirement already satisfied: markdown>=2.6.8 in /usr/local/lib/python3.10/dist-packages (from tensorboard<2.18,>=2.17->tensorflow) (3.7)\n",
            "Requirement already satisfied: tensorboard-data-server<0.8.0,>=0.7.0 in /usr/local/lib/python3.10/dist-packages (from tensorboard<2.18,>=2.17->tensorflow) (0.7.2)\n",
            "Requirement already satisfied: werkzeug>=1.0.1 in /usr/local/lib/python3.10/dist-packages (from tensorboard<2.18,>=2.17->tensorflow) (3.1.3)\n",
            "Requirement already satisfied: MarkupSafe>=2.1.1 in /usr/local/lib/python3.10/dist-packages (from werkzeug>=1.0.1->tensorboard<2.18,>=2.17->tensorflow) (3.0.2)\n",
            "Requirement already satisfied: markdown-it-py>=2.2.0 in /usr/local/lib/python3.10/dist-packages (from rich->keras>=3.2.0->tensorflow) (3.0.0)\n",
            "Requirement already satisfied: pygments<3.0.0,>=2.13.0 in /usr/local/lib/python3.10/dist-packages (from rich->keras>=3.2.0->tensorflow) (2.18.0)\n",
            "Requirement already satisfied: mdurl~=0.1 in /usr/local/lib/python3.10/dist-packages (from markdown-it-py>=2.2.0->rich->keras>=3.2.0->tensorflow) (0.1.2)\n"
          ]
        }
      ],
      "source": [
        "# Install TensorFlow\n",
        "!pip install tensorflow\n"
      ]
    },
    {
      "cell_type": "code",
      "source": [
        "import tensorflow as tf\n",
        "from tensorflow.keras import layers, models\n",
        "import numpy as np\n",
        "import matplotlib.pyplot as plt\n",
        "from sklearn.model_selection import train_test_split\n",
        "\n",
        "# Load MNIST dataset\n",
        "mnist = tf.keras.datasets.mnist\n",
        "\n",
        "# Split the data into training and test datasets\n",
        "(X_train, y_train), (X_test, y_test) = mnist.load_data()\n",
        "\n",
        "# Normalize the images to a range of 0-1 for better performance in training\n",
        "X_train = X_train / 255.0\n",
        "X_test = X_test / 255.0\n",
        "\n",
        "# Visualize the first image in the dataset\n",
        "plt.imshow(X_train[0], cmap='gray')\n",
        "plt.title(f\"Label: {y_train[0]}\")\n",
        "plt.show()\n"
      ],
      "metadata": {
        "colab": {
          "base_uri": "https://localhost:8080/",
          "height": 487
        },
        "id": "v-VM_ywLFfyt",
        "outputId": "c5bceea7-a97e-4458-ba4a-fcb85bc5c0c5"
      },
      "execution_count": 2,
      "outputs": [
        {
          "output_type": "stream",
          "name": "stdout",
          "text": [
            "Downloading data from https://storage.googleapis.com/tensorflow/tf-keras-datasets/mnist.npz\n",
            "\u001b[1m11490434/11490434\u001b[0m \u001b[32m━━━━━━━━━━━━━━━━━━━━\u001b[0m\u001b[37m\u001b[0m \u001b[1m0s\u001b[0m 0us/step\n"
          ]
        },
        {
          "output_type": "display_data",
          "data": {
            "text/plain": [
              "<Figure size 640x480 with 1 Axes>"
            ],
            "image/png": "[encoded data removed]"
          },
          "metadata": {}
        }
      ]
    },
    {
      "cell_type": "code",
      "source": [
        "# Build a simple neural network for digit recognition\n",
        "model = models.Sequential([\n",
        "    layers.Flatten(input_shape=(28, 28)),  # Flatten the image to a 1D array\n",
        "    layers.Dense(128, activation='relu'),  # Hidden layer\n",
        "    layers.Dropout(0.2),  # Dropout layer to prevent overfitting\n",
        "    layers.Dense(10, activation='softmax')  # Output layer: 10 classes (0-9)\n",
        "])\n",
        "\n",
        "# Compile the model\n",
        "model.compile(optimizer='adam',\n",
        "              loss='sparse_categorical_crossentropy',\n",
        "              metrics=['accuracy'])\n",
        "\n",
        "# Train the model\n",
        "model.fit(X_train, y_train, epochs=5)\n"
      ],
      "metadata": {
        "colab": {
          "base_uri": "https://localhost:8080/"
        },
        "id": "mwkkOm4wFxBh",
        "outputId": "56155cb6-bc94-4c31-acbc-0f6f8096d588"
      },
      "execution_count": 3,
      "outputs": [
        {
          "output_type": "stream",
          "name": "stderr",
          "text": [
            "/usr/local/lib/python3.10/dist-packages/keras/src/layers/reshaping/flatten.py:37: UserWarning: Do not pass an `input_shape`/`input_dim` argument to a layer. When using Sequential models, prefer using an `Input(shape)` object as the first layer in the model instead.\n",
            "  super().__init__(**kwargs)\n"
          ]
        },
        {
          "output_type": "stream",
          "name": "stdout",
          "text": [
            "Epoch 1/5\n",
            "\u001b[1m1875/1875\u001b[0m \u001b[32m━━━━━━━━━━━━━━━━━━━━\u001b[0m\u001b[37m\u001b[0m \u001b[1m11s\u001b[0m 5ms/step - accuracy: 0.8631 - loss: 0.4699\n",
            "Epoch 2/5\n",
            "\u001b[1m1875/1875\u001b[0m \u001b[32m━━━━━━━━━━━━━━━━━━━━\u001b[0m\u001b[37m\u001b[0m \u001b[1m10s\u001b[0m 5ms/step - accuracy: 0.9569 - loss: 0.1477\n",
            "Epoch 3/5\n",
            "\u001b[1m1875/1875\u001b[0m \u001b[32m━━━━━━━━━━━━━━━━━━━━\u001b[0m\u001b[37m\u001b[0m \u001b[1m7s\u001b[0m 4ms/step - accuracy: 0.9670 - loss: 0.1077\n",
            "Epoch 4/5\n",
            "\u001b[1m1875/1875\u001b[0m \u001b[32m━━━━━━━━━━━━━━━━━━━━\u001b[0m\u001b[37m\u001b[0m \u001b[1m10s\u001b[0m 5ms/step - accuracy: 0.9743 - loss: 0.0830\n",
            "Epoch 5/5\n",
            "\u001b[1m1875/1875\u001b[0m \u001b[32m━━━━━━━━━━━━━━━━━━━━\u001b[0m\u001b[37m\u001b[0m \u001b[1m9s\u001b[0m 5ms/step - accuracy: 0.9758 - loss: 0.0756\n"
          ]
        },
        {
          "output_type": "execute_result",
          "data": {
            "text/plain": [
              "<keras.src.callbacks.history.History at 0x79cb8386b400>"
            ]
          },
          "metadata": {},
          "execution_count": 3
        }
      ]
    },
    {
      "cell_type": "code",
      "source": [
        "# Evaluate the model on the test set\n",
        "test_loss, test_acc = model.evaluate(X_test, y_test)\n",
        "print(f\"Test accuracy: {test_acc:.4f}\")\n"
      ],
      "metadata": {
        "colab": {
          "base_uri": "https://localhost:8080/"
        },
        "id": "4Brr3yELF0Dg",
        "outputId": "46beaa8c-7a37-4ded-9466-0d372772d8b4"
      },
      "execution_count": 4,
      "outputs": [
        {
          "output_type": "stream",
          "name": "stdout",
          "text": [
            "\u001b[1m313/313\u001b[0m \u001b[32m━━━━━━━━━━━━━━━━━━━━\u001b[0m\u001b[37m\u001b[0m \u001b[1m1s\u001b[0m 1ms/step - accuracy: 0.9706 - loss: 0.0934\n",
            "Test accuracy: 0.9758\n"
          ]
        }
      ]
    },
    {
      "cell_type": "code",
      "source": [
        "import random\n",
        "\n",
        "# Define a function to create the interactive game\n",
        "def interactive_counting_game():\n",
        "    # Randomly pick an index from the test set\n",
        "    index = random.randint(0, len(X_test) - 1)\n",
        "\n",
        "    # Get the image and the true label\n",
        "    image = X_test[index]\n",
        "    true_label = y_test[index]\n",
        "\n",
        "    # Display the image\n",
        "    plt.imshow(image, cmap='gray')\n",
        "    plt.title(\"What number is this?\")\n",
        "    plt.show()\n",
        "\n",
        "    # Predict the number using the trained model\n",
        "    prediction = model.predict(np.expand_dims(image, axis=0))\n",
        "    predicted_label = np.argmax(prediction)\n",
        "\n",
        "    # Get the user's input\n",
        "    user_input = input(f\"Please enter the number you see (0-9): \")\n",
        "\n",
        "    # Provide feedback based on the user's input\n",
        "    if int(user_input) == true_label:\n",
        "        print(\"Great job! You got it right!\")\n",
        "    else:\n",
        "        print(f\"Oops! The correct number was {true_label}. Try again!\")\n",
        "\n",
        "# Run the interactive game\n",
        "interactive_counting_game()\n"
      ],
      "metadata": {
        "colab": {
          "base_uri": "https://localhost:8080/",
          "height": 504
        },
        "id": "bCl-hbcSF5xn",
        "outputId": "66271d90-0993-4083-83a7-3196928a0aab"
      },
      "execution_count": 6,
      "outputs": [
        {
          "output_type": "display_data",
          "data": {
            "text/plain": [
              "<Figure size 640x480 with 1 Axes>"
            ],
            "image/png": "[encoded data removed]"
          },
          "metadata": {}
        },
        {
          "output_type": "stream",
          "name": "stdout",
          "text": [
            "\u001b[1m1/1\u001b[0m \u001b[32m━━━━━━━━━━━━━━━━━━━━\u001b[0m\u001b[37m\u001b[0m \u001b[1m0s\u001b[0m 21ms/step\n",
            "Please enter the number you see (0-9): 1\n",
            "Great job! You got it right!\n"
          ]
        }
      ]
    },
    {
      "cell_type": "code",
      "source": [
        "\n",
        "def interactive_counting_game():\n",
        "    score = 0\n",
        "\n",
        "    # Game loop: will keep presenting questions indefinitely\n",
        "    while True:\n",
        "        # Randomly pick an index from the test set\n",
        "        index = random.randint(0, len(X_test) - 1)\n",
        "\n",
        "        # Get the image and the true label\n",
        "        image = X_test[index]\n",
        "        true_label = y_test[index]\n",
        "\n",
        "        # Display the image\n",
        "        plt.imshow(image, cmap='gray')\n",
        "        plt.title(\"What number is this?\")\n",
        "        plt.show()\n",
        "\n",
        "        # Predict the number using the trained model\n",
        "        prediction = model.predict(np.expand_dims(image, axis=0))\n",
        "        predicted_label = np.argmax(prediction)\n",
        "\n",
        "        # Provide feedback based on the user's input\n",
        "        print(f\"Model predicted: {predicted_label}\")\n",
        "\n",
        "        # Get the user's input (one chance to guess)\n",
        "        user_input = input(f\"Please enter the number you see (0-9): \")\n",
        "\n",
        "        # Check if the user's input is correct\n",
        "        if int(user_input) == true_label:\n",
        "            print(\"Great job! You got it right!\")\n",
        "            score += 1  # Increase score for correct answer\n",
        "        else:\n",
        "            print(f\"Oops! The correct number was {true_label}.\")\n",
        "\n",
        "        # Ask the user if they want to continue or stop\n",
        "        continue_game = input(\"Do you want to continue? (y/n): \")\n",
        "        if continue_game.lower() != 'y':\n",
        "            break  # Exit the game if the user chooses not to continue\n",
        "\n",
        "    # Final score\n",
        "    print(f\"Game Over! Your final score is {score} points.\")\n",
        "\n",
        "# Run the interactive game\n",
        "interactive_counting_game()"
      ],
      "metadata": {
        "colab": {
          "base_uri": "https://localhost:8080/",
          "height": 1000
        },
        "id": "FMctArfPIydG",
        "outputId": "b3161e5a-332f-45f9-aae7-dfd64f7784fc"
      },
      "execution_count": 20,
      "outputs": [
        {
          "output_type": "display_data",
          "data": {
            "text/plain": [
              "<Figure size 640x480 with 1 Axes>"
            ],
            "image/png": "[encoded data removed]"
          },
          "metadata": {}
        },
        {
          "name": "stdout",
          "output_type": "stream",
          "text": [
            "\u001b[1m1/1\u001b[0m \u001b[32m━━━━━━━━━━━━━━━━━━━━\u001b[0m\u001b[37m\u001b[0m \u001b[1m0s\u001b[0m 41ms/step\n",
            "Model predicted: 8\n",
            "Please enter the number you see (0-9): 8\n",
            "Great job! You got it right!\n",
            "Do you want to continue? (y/n): y\n"
          ]
        },
        {
          "output_type": "display_data",
          "data": {
            "text/plain": [
              "<Figure size 640x480 with 1 Axes>"
            ],
            "image/png": "[encoded data removed]"
          },
          "metadata": {}
        },
        {
          "output_type": "stream",
          "name": "stdout",
          "text": [
            "\u001b[1m1/1\u001b[0m \u001b[32m━━━━━━━━━━━━━━━━━━━━\u001b[0m\u001b[37m\u001b[0m \u001b[1m0s\u001b[0m 22ms/step\n",
            "Model predicted: 2\n",
            "Please enter the number you see (0-9): 2\n",
            "Great job! You got it right!\n",
            "Do you want to continue? (y/n): n\n",
            "Game Over! Your final score is 2 points.\n"
          ]
        }
      ]
    },
    {
      "cell_type": "code",
      "source": [
        "import random\n",
        "import matplotlib.pyplot as plt\n",
        "import numpy as np\n",
        "\n",
        "# Define some basic shapes and colors\n",
        "shapes = ['circle', 'square', 'triangle']\n",
        "colors = ['red', 'blue', 'green', 'yellow', 'orange']\n",
        "\n",
        "# Function to draw the shape on the screen\n",
        "def draw_shape(shape, color):\n",
        "    fig, ax = plt.subplots()\n",
        "    ax.set_aspect('equal')\n",
        "    ax.set_axis_off()\n",
        "\n",
        "    if shape == 'circle':\n",
        "        circle = plt.Circle((0.5, 0.5), 0.4, color=color)\n",
        "        ax.add_artist(circle)\n",
        "    elif shape == 'square':\n",
        "        square = plt.Rectangle((0.1, 0.1), 0.8, 0.8, color=color)\n",
        "        ax.add_artist(square)\n",
        "    elif shape == 'triangle':\n",
        "        triangle = plt.Polygon([(0.5, 0.9), (0.1, 0.1), (0.9, 0.1)], color=color)\n",
        "        ax.add_artist(triangle)\n",
        "\n",
        "    plt.show()\n",
        "\n",
        "# Function to create the Shape and Color Learning Game\n",
        "def shapes_and_colors_game():\n",
        "    print(\"Welcome to the Shapes and Colors Adventure Game!\")\n",
        "    print(\"In this game, you'll learn about shapes, colors, and patterns!\")\n",
        "\n",
        "    score = 0\n",
        "    rounds = 5  # Play 5 rounds\n",
        "\n",
        "    # Game loop\n",
        "    for round_number in range(rounds):\n",
        "        # Randomly pick a shape and color\n",
        "        shape = random.choice(shapes)\n",
        "        color = random.choice(colors)\n",
        "\n",
        "        # Show the shape and color to the player\n",
        "        print(f\"Round {round_number + 1}:\")\n",
        "        draw_shape(shape, color)\n",
        "\n",
        "        # Ask the user to guess the shape or color\n",
        "        user_guess = input(f\"What shape is this (circle, square, triangle)? \")\n",
        "\n",
        "        # Check if the guess is correct\n",
        "        if user_guess.lower() == shape:\n",
        "            print(\"Correct! Well done.\")\n",
        "            score += 1\n",
        "        else:\n",
        "            print(f\"Oops! The correct shape is {shape}. Don't worry, let's keep learning!\")\n",
        "\n",
        "        # Ask the user to guess the color\n",
        "        user_color_guess = input(f\"What color is this (red, blue, green, yellow, orange)? \")\n",
        "\n",
        "        # Check if the guess is correct\n",
        "        if user_color_guess.lower() == color:\n",
        "            print(\"Correct color! You're doing great.\")\n",
        "            score += 1\n",
        "        else:\n",
        "            print(f\"Oops! The correct color is {color}. Keep going!\")\n",
        "\n",
        "        print(f\"Your current score is: {score}\\n\")\n",
        "\n",
        "    # End the game\n",
        "    print(f\"Game Over! Your final score is {score} out of {rounds * 2}.\")\n",
        "    if score == rounds * 2:\n",
        "        print(\"Excellent! You know your shapes and colors very well!\")\n",
        "    elif score >= rounds:\n",
        "        print(\"Great job! You did well, but keep practicing!\")\n",
        "    else:\n",
        "        print(\"Good try! Keep playing and learning, you'll improve.\")\n",
        "\n",
        "# Function to create the Pattern Recognition Game\n",
        "def pattern_recognition_game():\n",
        "    print(\"Welcome to the Pattern Recognition Game!\")\n",
        "    print(\"In this game, you'll learn to recognize patterns!\")\n",
        "\n",
        "    patterns = [\n",
        "        (['circle', 'square', 'circle'], 'square'),\n",
        "        (['triangle', 'circle', 'triangle'], 'circle'),\n",
        "        (['square', 'triangle', 'square'], 'triangle')\n",
        "    ]\n",
        "\n",
        "    # Choose a random pattern\n",
        "    pattern, next_shape = random.choice(patterns)\n",
        "\n",
        "    print(f\"Here is the pattern: {', '.join(pattern)}\")\n",
        "    user_guess = input(\"What shape comes next? (circle, square, triangle): \")\n",
        "\n",
        "    if user_guess.lower() == next_shape:\n",
        "        print(\"Correct! You've recognized the pattern!\")\n",
        "    else:\n",
        "        print(f\"Oops! The correct answer is {next_shape}. Let's try again!\")\n",
        "\n",
        "    print(\"Good job! Keep practicing and you'll be a pattern master!\")\n",
        "\n",
        "# Run the Shapes and Colors Adventure Game\n",
        "def play_game():\n",
        "    print(\"Choose a game to play:\")\n",
        "    print(\"1. Shapes and Colors Game\")\n",
        "    print(\"2. Pattern Recognition Game\")\n",
        "\n",
        "    choice = input(\"Enter the number of the game you want to play: \")\n",
        "\n",
        "    if choice == '1':\n",
        "        shapes_and_colors_game()\n",
        "    elif choice == '2':\n",
        "        pattern_recognition_game()\n",
        "    else:\n",
        "        print(\"Invalid choice, please enter 1 or 2.\")\n",
        "\n",
        "# Start the game\n",
        "play_game()\n"
      ],
      "metadata": {
        "colab": {
          "base_uri": "https://localhost:8080/",
          "height": 1000
        },
        "id": "dqrTTrhwKf3n",
        "outputId": "eec0ba85-2d5f-4443-bd01-153651f49056"
      },
      "execution_count": 21,
      "outputs": [
        {
          "output_type": "stream",
          "name": "stdout",
          "text": [
            "Choose a game to play:\n",
            "1. Shapes and Colors Game\n",
            "2. Pattern Recognition Game\n",
            "Enter the number of the game you want to play: 1\n",
            "Welcome to the Shapes and Colors Adventure Game!\n",
            "In this game, you'll learn about shapes, colors, and patterns!\n",
            "Round 1:\n"
          ]
        },
        {
          "output_type": "display_data",
          "data": {
            "text/plain": [
              "<Figure size 640x480 with 1 Axes>"
            ],
            "image/png": "[encoded data removed]"
          },
          "metadata": {}
        },
        {
          "output_type": "stream",
          "name": "stdout",
          "text": [
            "What shape is this (circle, square, triangle)? triangle\n",
            "Correct! Well done.\n",
            "What color is this (red, blue, green, yellow, orange)? green\n",
            "Correct color! You're doing great.\n",
            "Your current score is: 2\n",
            "\n",
            "Round 2:\n"
          ]
        },
        {
          "output_type": "display_data",
          "data": {
            "text/plain": [
              "<Figure size 640x480 with 1 Axes>"
            ],
            "image/png": "[encoded data removed]"
          },
          "metadata": {}
        },
        {
          "output_type": "stream",
          "name": "stdout",
          "text": [
            "What shape is this (circle, square, triangle)? triangle\n",
            "Correct! Well done.\n",
            "What color is this (red, blue, green, yellow, orange)? yellow\n",
            "Correct color! You're doing great.\n",
            "Your current score is: 4\n",
            "\n",
            "Round 3:\n"
          ]
        },
        {
          "output_type": "display_data",
          "data": {
            "text/plain": [
              "<Figure size 640x480 with 1 Axes>"
            ],
            "image/png": "[encoded data removed]"
          },
          "metadata": {}
        },
        {
          "output_type": "stream",
          "name": "stdout",
          "text": [
            "What shape is this (circle, square, triangle)? square\n",
            "Correct! Well done.\n",
            "What color is this (red, blue, green, yellow, orange)? red\n",
            "Oops! The correct color is green. Keep going!\n",
            "Your current score is: 5\n",
            "\n",
            "Round 4:\n"
          ]
        },
        {
          "output_type": "display_data",
          "data": {
            "text/plain": [
              "<Figure size 640x480 with 1 Axes>"
            ],
            "image/png": "[encoded data removed]"
          },
          "metadata": {}
        },
        {
          "output_type": "error",
          "ename": "KeyboardInterrupt",
          "evalue": "Interrupted by user",
          "traceback": [
            "\u001b[0;31m---------------------------------------------------------------------------\u001b[0m",
            "\u001b[0;31mKeyboardInterrupt\u001b[0m                         Traceback (most recent call last)",
            "\u001b[0;32m<ipython-input-21-e9879c20e6a5>\u001b[0m in \u001b[0;36m<cell line: 116>\u001b[0;34m()\u001b[0m\n\u001b[1;32m    114\u001b[0m \u001b[0;34m\u001b[0m\u001b[0m\n\u001b[1;32m    115\u001b[0m \u001b[0;31m# Start the game\u001b[0m\u001b[0;34m\u001b[0m\u001b[0;34m\u001b[0m\u001b[0m\n\u001b[0;32m--> 116\u001b[0;31m \u001b[0mplay_game\u001b[0m\u001b[0;34m(\u001b[0m\u001b[0;34m)\u001b[0m\u001b[0;34m\u001b[0m\u001b[0;34m\u001b[0m\u001b[0m\n\u001b[0m",
            "\u001b[0;32m<ipython-input-21-e9879c20e6a5>\u001b[0m in \u001b[0;36mplay_game\u001b[0;34m()\u001b[0m\n\u001b[1;32m    107\u001b[0m \u001b[0;34m\u001b[0m\u001b[0m\n\u001b[1;32m    108\u001b[0m     \u001b[0;32mif\u001b[0m \u001b[0mchoice\u001b[0m \u001b[0;34m==\u001b[0m \u001b[0;34m'1'\u001b[0m\u001b[0;34m:\u001b[0m\u001b[0;34m\u001b[0m\u001b[0;34m\u001b[0m\u001b[0m\n\u001b[0;32m--> 109\u001b[0;31m         \u001b[0mshapes_and_colors_game\u001b[0m\u001b[0;34m(\u001b[0m\u001b[0;34m)\u001b[0m\u001b[0;34m\u001b[0m\u001b[0;34m\u001b[0m\u001b[0m\n\u001b[0m\u001b[1;32m    110\u001b[0m     \u001b[0;32melif\u001b[0m \u001b[0mchoice\u001b[0m \u001b[0;34m==\u001b[0m \u001b[0;34m'2'\u001b[0m\u001b[0;34m:\u001b[0m\u001b[0;34m\u001b[0m\u001b[0;34m\u001b[0m\u001b[0m\n\u001b[1;32m    111\u001b[0m         \u001b[0mpattern_recognition_game\u001b[0m\u001b[0;34m(\u001b[0m\u001b[0;34m)\u001b[0m\u001b[0;34m\u001b[0m\u001b[0;34m\u001b[0m\u001b[0m\n",
            "\u001b[0;32m<ipython-input-21-e9879c20e6a5>\u001b[0m in \u001b[0;36mshapes_and_colors_game\u001b[0;34m()\u001b[0m\n\u001b[1;32m     44\u001b[0m \u001b[0;34m\u001b[0m\u001b[0m\n\u001b[1;32m     45\u001b[0m         \u001b[0;31m# Ask the user to guess the shape or color\u001b[0m\u001b[0;34m\u001b[0m\u001b[0;34m\u001b[0m\u001b[0m\n\u001b[0;32m---> 46\u001b[0;31m         \u001b[0muser_guess\u001b[0m \u001b[0;34m=\u001b[0m \u001b[0minput\u001b[0m\u001b[0;34m(\u001b[0m\u001b[0;34mf\"What shape is this (circle, square, triangle)? \"\u001b[0m\u001b[0;34m)\u001b[0m\u001b[0;34m\u001b[0m\u001b[0;34m\u001b[0m\u001b[0m\n\u001b[0m\u001b[1;32m     47\u001b[0m \u001b[0;34m\u001b[0m\u001b[0m\n\u001b[1;32m     48\u001b[0m         \u001b[0;31m# Check if the guess is correct\u001b[0m\u001b[0;34m\u001b[0m\u001b[0;34m\u001b[0m\u001b[0m\n",
            "\u001b[0;32m/usr/local/lib/python3.10/dist-packages/ipykernel/kernelbase.py\u001b[0m in \u001b[0;36mraw_input\u001b[0;34m(self, prompt)\u001b[0m\n\u001b[1;32m    849\u001b[0m                 \u001b[0;34m\"raw_input was called, but this frontend does not support input requests.\"\u001b[0m\u001b[0;34m\u001b[0m\u001b[0;34m\u001b[0m\u001b[0m\n\u001b[1;32m    850\u001b[0m             )\n\u001b[0;32m--> 851\u001b[0;31m         return self._input_request(str(prompt),\n\u001b[0m\u001b[1;32m    852\u001b[0m             \u001b[0mself\u001b[0m\u001b[0;34m.\u001b[0m\u001b[0m_parent_ident\u001b[0m\u001b[0;34m,\u001b[0m\u001b[0;34m\u001b[0m\u001b[0;34m\u001b[0m\u001b[0m\n\u001b[1;32m    853\u001b[0m             \u001b[0mself\u001b[0m\u001b[0;34m.\u001b[0m\u001b[0m_parent_header\u001b[0m\u001b[0;34m,\u001b[0m\u001b[0;34m\u001b[0m\u001b[0;34m\u001b[0m\u001b[0m\n",
            "\u001b[0;32m/usr/local/lib/python3.10/dist-packages/ipykernel/kernelbase.py\u001b[0m in \u001b[0;36m_input_request\u001b[0;34m(self, prompt, ident, parent, password)\u001b[0m\n\u001b[1;32m    893\u001b[0m             \u001b[0;32mexcept\u001b[0m \u001b[0mKeyboardInterrupt\u001b[0m\u001b[0;34m:\u001b[0m\u001b[0;34m\u001b[0m\u001b[0;34m\u001b[0m\u001b[0m\n\u001b[1;32m    894\u001b[0m                 \u001b[0;31m# re-raise KeyboardInterrupt, to truncate traceback\u001b[0m\u001b[0;34m\u001b[0m\u001b[0;34m\u001b[0m\u001b[0m\n\u001b[0;32m--> 895\u001b[0;31m                 \u001b[0;32mraise\u001b[0m \u001b[0mKeyboardInterrupt\u001b[0m\u001b[0;34m(\u001b[0m\u001b[0;34m\"Interrupted by user\"\u001b[0m\u001b[0;34m)\u001b[0m \u001b[0;32mfrom\u001b[0m \u001b[0;32mNone\u001b[0m\u001b[0;34m\u001b[0m\u001b[0;34m\u001b[0m\u001b[0m\n\u001b[0m\u001b[1;32m    896\u001b[0m             \u001b[0;32mexcept\u001b[0m \u001b[0mException\u001b[0m \u001b[0;32mas\u001b[0m \u001b[0me\u001b[0m\u001b[0;34m:\u001b[0m\u001b[0;34m\u001b[0m\u001b[0;34m\u001b[0m\u001b[0m\n\u001b[1;32m    897\u001b[0m                 \u001b[0mself\u001b[0m\u001b[0;34m.\u001b[0m\u001b[0mlog\u001b[0m\u001b[0;34m.\u001b[0m\u001b[0mwarning\u001b[0m\u001b[0;34m(\u001b[0m\u001b[0;34m\"Invalid Message:\"\u001b[0m\u001b[0;34m,\u001b[0m \u001b[0mexc_info\u001b[0m\u001b[0;34m=\u001b[0m\u001b[0;32mTrue\u001b[0m\u001b[0;34m)\u001b[0m\u001b[0;34m\u001b[0m\u001b[0;34m\u001b[0m\u001b[0m\n",
            "\u001b[0;31mKeyboardInterrupt\u001b[0m: Interrupted by user"
          ]
        }
      ]
    },
    {
      "cell_type": "code",
      "source": [
        "import random\n",
        "import ipywidgets as widgets\n",
        "from IPython.display import display\n",
        "\n",
        "# Function to generate a random math question (addition or subtraction)\n",
        "def generate_math_question(level):\n",
        "    # Generate random numbers based on the difficulty level\n",
        "    if level == 1:\n",
        "        num1 = random.randint(1, 10)\n",
        "        num2 = random.randint(1, 10)\n",
        "    elif level == 2:\n",
        "        num1 = random.randint(10, 20)\n",
        "        num2 = random.randint(10, 20)\n",
        "    elif level == 3:\n",
        "        num1 = random.randint(20, 50)\n",
        "        num2 = random.randint(20, 50)\n",
        "\n",
        "    # Randomly choose between addition or subtraction\n",
        "    operation = random.choice(['+', '-'])\n",
        "\n",
        "    # Create the question based on the operation\n",
        "    if operation == '+':\n",
        "        question = f\"{num1} + {num2}\"\n",
        "        correct_answer = num1 + num2\n",
        "    else:\n",
        "        question = f\"{num1} - {num2}\"\n",
        "        correct_answer = num1 - num2\n",
        "\n",
        "    return question, correct_answer\n",
        "\n",
        "# Function to update the game state\n",
        "class MathChallengeGame:\n",
        "    def __init__(self):\n",
        "        self.score = 0\n",
        "        self.level = 1  # Start at level 1\n",
        "        self.rounds = 0\n",
        "        self.total_rounds = 10\n",
        "        self.game_active = True\n",
        "\n",
        "        # Create widgets\n",
        "        self.question_text = widgets.Textarea(value=\"Welcome to the AI Math Challenge!\\nLet's begin the game!\",\n",
        "                                               description=\"Question:\", disabled=True, layout=widgets.Layout(width='auto'))\n",
        "        self.answer_input = widgets.IntText(value=0, description=\"Your Answer:\", disabled=False)\n",
        "        self.submit_button = widgets.Button(description=\"Submit Answer\")\n",
        "        self.quit_button = widgets.Button(description=\"Quit Game\")\n",
        "        self.score_text = widgets.Label(value=\"Your current score: 0\")\n",
        "\n",
        "        # Set button actions\n",
        "        self.submit_button.on_click(self.submit_answer)\n",
        "        self.quit_button.on_click(self.quit_game)\n",
        "\n",
        "        # Display widgets\n",
        "        display(self.question_text, self.answer_input, self.submit_button, self.quit_button, self.score_text)\n",
        "\n",
        "    def submit_answer(self, b):\n",
        "        if not self.game_active:\n",
        "            return\n",
        "\n",
        "        # Get user answer\n",
        "        user_answer = self.answer_input.value\n",
        "        question, correct_answer = self.current_question\n",
        "\n",
        "        # Check the answer\n",
        "        if user_answer == correct_answer:\n",
        "            self.score += 1\n",
        "            if self.score % 3 == 0:  # Increase difficulty every 3 correct answers\n",
        "                self.level += 1\n",
        "                self.game_feedback(f\"Correct! You're moving up a level! The problems will get harder now.\")\n",
        "            else:\n",
        "                self.game_feedback(f\"Correct! Great job.\")\n",
        "        else:\n",
        "            self.game_feedback(f\"Oops! The correct answer was {correct_answer}. Keep going!\")\n",
        "\n",
        "        # Increment round and update\n",
        "        self.rounds += 1\n",
        "        if self.rounds >= self.total_rounds:\n",
        "            self.end_game()\n",
        "        else:\n",
        "            self.generate_new_question()\n",
        "\n",
        "    def quit_game(self, b):\n",
        "        self.game_active = False\n",
        "        self.question_text.value = \"You choose to quit the game. Thanks for playing!\"\n",
        "        self.submit_button.disabled = True\n",
        "        self.quit_button.disabled = True\n",
        "\n",
        "    def generate_new_question(self):\n",
        "        # Generate a new math question\n",
        "        question, correct_answer = generate_math_question(self.level)\n",
        "        self.current_question = (question, correct_answer)\n",
        "        self.update_game(self.rounds, question)\n",
        "\n",
        "    def game_feedback(self, feedback):\n",
        "        self.question_text.value = feedback\n",
        "        self.score_text.value = f\"Your current score: {self.score}\"\n",
        "\n",
        "    def update_game(self, round_number, question):\n",
        "        self.question_text.value = f\"Round {round_number + 1}: Solve the problem:\\n{question}\"\n",
        "        self.score_text.value = f\"Your current score: {self.score}\"\n",
        "\n",
        "    def end_game(self):\n",
        "        self.game_active = False\n",
        "        self.submit_button.disabled = True\n",
        "        self.quit_button.disabled = True\n",
        "        if self.score == self.total_rounds:\n",
        "            self.question_text.value = f\"Excellent! You completed all {self.total_rounds} rounds correctly!\"\n",
        "        else:\n",
        "            self.question_text.value = f\"Game Over! Your final score is {self.score} out of {self.total_rounds}.\"\n",
        "\n",
        "# Start the game\n",
        "game = MathChallengeGame()\n",
        "game.generate_new_question()\n"
      ],
      "metadata": {
        "colab": {
          "base_uri": "https://localhost:8080/",
          "height": 189,
          "referenced_widgets": [
            "553e8312a03448dca3462289319053cb",
            "285f08262796418d8e798e4fb990256d",
            "a4e88a7fa5404a318df98b46739026c9",
            "b15173ecc5304cf39f94db614a76fd91",
            "b07ad1fd5d0d41dea6cd6cd1f30e9cd2",
            "b5fdac24aafd470e9acd34573864a6a5",
            "3e171fda39c74630bd512fca927ca14b",
            "9d06e30931b245ee970583123dd439e9",
            "31786997be39468b89a5ffcf0d0bd3ff",
            "6d585f8ebb6d4802b84820faf9d25839",
            "6e504fa397664da0a9e5e65615a1be01",
            "bdc41fa06af748d186419d2cb75fecb6",
            "8448e2a3abca4db7aa796d0375c8762a",
            "5dcc81c30d16494c92e18851a7023c05",
            "aeb586a7dc6c40b596c137b3b569b769"
          ]
        },
        "id": "fsbi8ekBMVXu",
        "outputId": "1effa94c-9abb-450b-9a40-6992693f0e37"
      },
      "execution_count": 22,
      "outputs": [
        {
          "output_type": "display_data",
          "data": {
            "text/plain": [
              "Textarea(value=\"Welcome to the AI Math Challenge!\\nLet's begin the game!\", description='Question:', disabled=T…"
            ],
            "application/vnd.jupyter.widget-view+json": {
              "version_major": 2,
              "version_minor": 0,
              "model_id": "553e8312a03448dca3462289319053cb"
            }
          },
          "metadata": {}
        },
        {
          "output_type": "display_data",
          "data": {
            "text/plain": [
              "IntText(value=0, description='Your Answer:')"
            ],
            "application/vnd.jupyter.widget-view+json": {
              "version_major": 2,
              "version_minor": 0,
              "model_id": "b15173ecc5304cf39f94db614a76fd91"
            }
          },
          "metadata": {}
        },
        {
          "output_type": "display_data",
          "data": {
            "text/plain": [
              "Button(description='Submit Answer', style=ButtonStyle())"
            ],
            "application/vnd.jupyter.widget-view+json": {
              "version_major": 2,
              "version_minor": 0,
              "model_id": "3e171fda39c74630bd512fca927ca14b"
            }
          },
          "metadata": {}
        },
        {
          "output_type": "display_data",
          "data": {
            "text/plain": [
              "Button(description='Quit Game', style=ButtonStyle())"
            ],
            "application/vnd.jupyter.widget-view+json": {
              "version_major": 2,
              "version_minor": 0,
              "model_id": "6d585f8ebb6d4802b84820faf9d25839"
            }
          },
          "metadata": {}
        },
        {
          "output_type": "display_data",
          "data": {
            "text/plain": [
              "Label(value='Your current score: 0')"
            ],
            "application/vnd.jupyter.widget-view+json": {
              "version_major": 2,
              "version_minor": 0,
              "model_id": "8448e2a3abca4db7aa796d0375c8762a"
            }
          },
          "metadata": {}
        }
      ]
    }
  ]
}