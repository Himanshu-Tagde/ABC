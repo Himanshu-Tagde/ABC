{
  "nbformat": 4,
  "nbformat_minor": 0,
  "metadata": {
    "colab": {
      "provenance": [],
      "authorship_tag": "ABX9TyP2P2aXkf+D54dTgjZveaOV",
      "include_colab_link": true
    },
    "kernelspec": {
      "name": "python3",
      "display_name": "Python 3"
    },
    "language_info": {
      "name": "python"
    }
  },
  "cells": [
    {
      "cell_type": "markdown",
      "metadata": {
        "id": "view-in-github",
        "colab_type": "text"
      },
      "source": [
        "<a href=\"https://colab.research.google.com/github/Himanshu-Tagde/ABC/blob/main/streamlit.ipynb\" target=\"_parent\"><img src=\"https://colab.research.google.com/assets/colab-badge.svg\" alt=\"Open In Colab\"/></a>"
      ]
    },
    {
      "cell_type": "code",
      "execution_count": 47,
      "metadata": {
        "colab": {
          "base_uri": "https://localhost:8080/"
        },
        "id": "XjQfSbbxVQ6L",
        "outputId": "9022a83d-5b60-4df6-dd43-e90c5a9bcb59"
      },
      "outputs": [
        {
          "output_type": "stream",
          "name": "stdout",
          "text": [
            "Requirement already satisfied: streamlit in /usr/local/lib/python3.10/dist-packages (1.41.1)\n",
            "Requirement already satisfied: altair<6,>=4.0 in /usr/local/lib/python3.10/dist-packages (from streamlit) (5.5.0)\n",
            "Requirement already satisfied: blinker<2,>=1.0.0 in /usr/local/lib/python3.10/dist-packages (from streamlit) (1.9.0)\n",
            "Requirement already satisfied: cachetools<6,>=4.0 in /usr/local/lib/python3.10/dist-packages (from streamlit) (5.5.0)\n",
            "Requirement already satisfied: click<9,>=7.0 in /usr/local/lib/python3.10/dist-packages (from streamlit) (8.1.7)\n",
            "Requirement already satisfied: numpy<3,>=1.23 in /usr/local/lib/python3.10/dist-packages (from streamlit) (1.26.4)\n",
            "Requirement already satisfied: packaging<25,>=20 in /usr/local/lib/python3.10/dist-packages (from streamlit) (24.2)\n",
            "Requirement already satisfied: pandas<3,>=1.4.0 in /usr/local/lib/python3.10/dist-packages (from streamlit) (2.2.2)\n",
            "Requirement already satisfied: pillow<12,>=7.1.0 in /usr/local/lib/python3.10/dist-packages (from streamlit) (11.0.0)\n",
            "Requirement already satisfied: protobuf<6,>=3.20 in /usr/local/lib/python3.10/dist-packages (from streamlit) (4.25.5)\n",
            "Requirement already satisfied: pyarrow>=7.0 in /usr/local/lib/python3.10/dist-packages (from streamlit) (17.0.0)\n",
            "Requirement already satisfied: requests<3,>=2.27 in /usr/local/lib/python3.10/dist-packages (from streamlit) (2.32.3)\n",
            "Requirement already satisfied: rich<14,>=10.14.0 in /usr/local/lib/python3.10/dist-packages (from streamlit) (13.9.4)\n",
            "Requirement already satisfied: tenacity<10,>=8.1.0 in /usr/local/lib/python3.10/dist-packages (from streamlit) (9.0.0)\n",
            "Requirement already satisfied: toml<2,>=0.10.1 in /usr/local/lib/python3.10/dist-packages (from streamlit) (0.10.2)\n",
            "Requirement already satisfied: typing-extensions<5,>=4.3.0 in /usr/local/lib/python3.10/dist-packages (from streamlit) (4.12.2)\n",
            "Requirement already satisfied: watchdog<7,>=2.1.5 in /usr/local/lib/python3.10/dist-packages (from streamlit) (6.0.0)\n",
            "Requirement already satisfied: gitpython!=3.1.19,<4,>=3.0.7 in /usr/local/lib/python3.10/dist-packages (from streamlit) (3.1.43)\n",
            "Requirement already satisfied: pydeck<1,>=0.8.0b4 in /usr/local/lib/python3.10/dist-packages (from streamlit) (0.9.1)\n",
            "Requirement already satisfied: tornado<7,>=6.0.3 in /usr/local/lib/python3.10/dist-packages (from streamlit) (6.3.3)\n",
            "Requirement already satisfied: jinja2 in /usr/local/lib/python3.10/dist-packages (from altair<6,>=4.0->streamlit) (3.1.4)\n",
            "Requirement already satisfied: jsonschema>=3.0 in /usr/local/lib/python3.10/dist-packages (from altair<6,>=4.0->streamlit) (4.23.0)\n",
            "Requirement already satisfied: narwhals>=1.14.2 in /usr/local/lib/python3.10/dist-packages (from altair<6,>=4.0->streamlit) (1.18.4)\n",
            "Requirement already satisfied: gitdb<5,>=4.0.1 in /usr/local/lib/python3.10/dist-packages (from gitpython!=3.1.19,<4,>=3.0.7->streamlit) (4.0.11)\n",
            "Requirement already satisfied: python-dateutil>=2.8.2 in /usr/local/lib/python3.10/dist-packages (from pandas<3,>=1.4.0->streamlit) (2.8.2)\n",
            "Requirement already satisfied: pytz>=2020.1 in /usr/local/lib/python3.10/dist-packages (from pandas<3,>=1.4.0->streamlit) (2024.2)\n",
            "Requirement already satisfied: tzdata>=2022.7 in /usr/local/lib/python3.10/dist-packages (from pandas<3,>=1.4.0->streamlit) (2024.2)\n",
            "Requirement already satisfied: charset-normalizer<4,>=2 in /usr/local/lib/python3.10/dist-packages (from requests<3,>=2.27->streamlit) (3.4.0)\n",
            "Requirement already satisfied: idna<4,>=2.5 in /usr/local/lib/python3.10/dist-packages (from requests<3,>=2.27->streamlit) (3.10)\n",
            "Requirement already satisfied: urllib3<3,>=1.21.1 in /usr/local/lib/python3.10/dist-packages (from requests<3,>=2.27->streamlit) (2.2.3)\n",
            "Requirement already satisfied: certifi>=2017.4.17 in /usr/local/lib/python3.10/dist-packages (from requests<3,>=2.27->streamlit) (2024.12.14)\n",
            "Requirement already satisfied: markdown-it-py>=2.2.0 in /usr/local/lib/python3.10/dist-packages (from rich<14,>=10.14.0->streamlit) (3.0.0)\n",
            "Requirement already satisfied: pygments<3.0.0,>=2.13.0 in /usr/local/lib/python3.10/dist-packages (from rich<14,>=10.14.0->streamlit) (2.18.0)\n",
            "Requirement already satisfied: smmap<6,>=3.0.1 in /usr/local/lib/python3.10/dist-packages (from gitdb<5,>=4.0.1->gitpython!=3.1.19,<4,>=3.0.7->streamlit) (5.0.1)\n",
            "Requirement already satisfied: MarkupSafe>=2.0 in /usr/local/lib/python3.10/dist-packages (from jinja2->altair<6,>=4.0->streamlit) (3.0.2)\n",
            "Requirement already satisfied: attrs>=22.2.0 in /usr/local/lib/python3.10/dist-packages (from jsonschema>=3.0->altair<6,>=4.0->streamlit) (24.3.0)\n",
            "Requirement already satisfied: jsonschema-specifications>=2023.03.6 in /usr/local/lib/python3.10/dist-packages (from jsonschema>=3.0->altair<6,>=4.0->streamlit) (2024.10.1)\n",
            "Requirement already satisfied: referencing>=0.28.4 in /usr/local/lib/python3.10/dist-packages (from jsonschema>=3.0->altair<6,>=4.0->streamlit) (0.35.1)\n",
            "Requirement already satisfied: rpds-py>=0.7.1 in /usr/local/lib/python3.10/dist-packages (from jsonschema>=3.0->altair<6,>=4.0->streamlit) (0.22.3)\n",
            "Requirement already satisfied: mdurl~=0.1 in /usr/local/lib/python3.10/dist-packages (from markdown-it-py>=2.2.0->rich<14,>=10.14.0->streamlit) (0.1.2)\n",
            "Requirement already satisfied: six>=1.5 in /usr/local/lib/python3.10/dist-packages (from python-dateutil>=2.8.2->pandas<3,>=1.4.0->streamlit) (1.17.0)\n"
          ]
        }
      ],
      "source": [
        "pip install streamlit"
      ]
    },
    {
      "cell_type": "code",
      "source": [
        "!unzip /content/images.zip"
      ],
      "metadata": {
        "colab": {
          "base_uri": "https://localhost:8080/"
        },
        "id": "D215w_VelbT7",
        "outputId": "94c10cd0-2265-4267-a8f6-720cac4d5299"
      },
      "execution_count": 16,
      "outputs": [
        {
          "output_type": "stream",
          "name": "stdout",
          "text": [
            "Archive:  /content/images.zip\n",
            "   creating: images/\n",
            "  inflating: images/1.png            \n",
            "  inflating: images/10.png           \n",
            "  inflating: images/11.png           \n",
            "  inflating: images/12.png           \n",
            "  inflating: images/13.png           \n",
            "  inflating: images/14.png           \n",
            "  inflating: images/15.png           \n",
            "  inflating: images/16.png           \n",
            "  inflating: images/17.png           \n",
            "  inflating: images/18.png           \n",
            "  inflating: images/19.png           \n",
            "  inflating: images/2.png            \n",
            "  inflating: images/20.png           \n",
            "  inflating: images/3.png            \n",
            "  inflating: images/4.png            \n",
            "  inflating: images/5.png            \n",
            "  inflating: images/6.png            \n",
            "  inflating: images/7.png            \n",
            "  inflating: images/8.png            \n",
            "  inflating: images/9.png            \n",
            "  inflating: images/divide.png       \n",
            "  inflating: images/minus.png        \n",
            "  inflating: images/multiply.png     \n",
            "  inflating: images/plus.png         \n"
          ]
        }
      ]
    },
    {
      "cell_type": "code",
      "source": [
        "#update 3.3\n",
        "%%writefile app.py\n",
        "import streamlit as st\n",
        "import random\n",
        "from PIL import Image\n",
        "\n",
        "# Title of the app\n",
        "st.title(\"Kids Learning App: Math Fun with Pictures!\")\n",
        "\n",
        "# Initialize score and other session state variables\n",
        "if \"score\" not in st.session_state:\n",
        "    st.session_state.score = 0\n",
        "\n",
        "if \"question_generated\" not in st.session_state:\n",
        "    st.session_state.question_generated = False\n",
        "\n",
        "if \"selected_answer\" not in st.session_state:\n",
        "    st.session_state.selected_answer = None\n",
        "\n",
        "if \"feedback\" not in st.session_state:\n",
        "    st.session_state.feedback = \"\"\n",
        "\n",
        "if \"correct_answer\" not in st.session_state:\n",
        "    st.session_state.correct_answer = None\n",
        "\n",
        "if \"submitted\" not in st.session_state:\n",
        "    st.session_state.submitted = False\n",
        "\n",
        "# Function to reset the game\n",
        "def reset_game():\n",
        "    st.session_state.selected_answer = None\n",
        "    st.session_state.feedback = \"\"\n",
        "    st.session_state.submitted = False\n",
        "    st.session_state.question_generated = False\n",
        "\n",
        "# Function to quit the game\n",
        "def quit_game():\n",
        "    st.session_state.score = 0\n",
        "    st.session_state.question_generated = False\n",
        "    st.write(\"Thanks for playing! The game has ended. Goodbye!\")\n",
        "\n",
        "# Display the current score\n",
        "st.write(f\"Your current score: {st.session_state.score}\")\n",
        "\n",
        "# Display a welcome message\n",
        "st.write(\"Welcome to the math learning game! Let's have fun while learning math.\")\n",
        "st.write(\"Choose the operation you want to practice:\")\n",
        "\n",
        "# Dropdown menu to select math operation\n",
        "operation = st.selectbox(\"Choose a math operation\", (\"Addition\", \"Subtraction\", \"Multiplication\", \"Division\"))\n",
        "\n",
        "# Function to generate a math question with images instead of numbers\n",
        "def generate_question(operation):\n",
        "    if operation == \"Addition\":\n",
        "        a = random.randint(1, 20)\n",
        "        b = random.randint(1, 20)\n",
        "        answer = a + b\n",
        "        question = f\"What is {a} + {b}?\"\n",
        "        sign_image = \"plus.png\"\n",
        "    elif operation == \"Subtraction\":\n",
        "        a = random.randint(1, 20)\n",
        "        b = random.randint(1, a) # ensure no negative result\n",
        "        answer = a - b\n",
        "        question = f\"What is {a} - {b}?\"\n",
        "        sign_image = \"minus.png\"\n",
        "    elif operation == \"Multiplication\":\n",
        "        a = random.randint(1, 10)\n",
        "        b = random.randint(1, 10)\n",
        "        answer = a * b\n",
        "        question = f\"What is {a} x {b}?\"\n",
        "        sign_image = \"multiply.png\"\n",
        "    elif operation == \"Division\":\n",
        "        a = random.randint(2, 20)\n",
        "        b = random.randint(2, 10)\n",
        "        answer = a // b # Integer division for simplicity\n",
        "        question = f\"What is {a} ÷ {b}?\"\n",
        "        sign_image = \"divide.png\"\n",
        "    return question, answer, a, b, sign_image\n",
        "\n",
        "# Function to display the number images with error handling\n",
        "def display_number_image(num):\n",
        "    try:\n",
        "        img = Image.open(f\"images/{num}.png\")\n",
        "        st.image(img, caption=str(num), width=100)\n",
        "    except FileNotFoundError:\n",
        "        st.write(f\"Image for number {num} not found. Please ensure the image is in the 'images' folder.\")\n",
        "\n",
        "# Function to display the operation sign image with error handling\n",
        "def display_sign_image(sign_image):\n",
        "    try:\n",
        "        img = Image.open(f\"images/{sign_image}\")\n",
        "        st.image(img, width=50)\n",
        "    except FileNotFoundError:\n",
        "        st.write(f\"Image for operation sign {sign_image} not found. Please ensure the image is in the 'images' folder.\")\n",
        "\n",
        "# Reload button logic\n",
        "if st.button(\"Reload Game\"):\n",
        "    reset_game()\n",
        "    st.write(\"The game has been reset. Let's start again!\")\n",
        "\n",
        "# Quit button logic\n",
        "if st.button(\"Quit Game\"):\n",
        "    quit_game()\n",
        "    st.stop() # This stops further Streamlit code from executing, effectively quitting the app\n",
        "\n",
        "# Generate a random math question based on selected operation\n",
        "if not st.session_state.get(\"question_generated\", False):\n",
        "    question, correct_answer, a, b, sign_image = generate_question(operation)\n",
        "    st.session_state.question_generated = True\n",
        "    st.session_state.correct_answer = correct_answer\n",
        "\n",
        "    # Display the question with images\n",
        "    st.write(\"What is this?\")\n",
        "    col1, col2, col3 = st.columns(3)\n",
        "\n",
        "    with col1:\n",
        "        display_number_image(a)\n",
        "\n",
        "    with col2:\n",
        "        display_sign_image(sign_image) # Display the operation sign image\n",
        "\n",
        "    with col3:\n",
        "        display_number_image(b)\n",
        "\n",
        "    st.write(question)\n",
        "\n",
        "    # Generate multiple-choice options\n",
        "    options = [correct_answer]\n",
        "    while len(options) < 4:\n",
        "        random_option = random.randint(correct_answer - 5, correct_answer + 5)\n",
        "        if random_option not in options and random_option >= 0: # avoid duplicates and negative numbers\n",
        "            options.append(random_option)\n",
        "\n",
        "    random.shuffle(options) # Shuffle the options\n",
        "\n",
        "    # Display the options as radio buttons\n",
        "    selected_option = st.radio(\"Choose the correct answer:\", options, key=\"answer_options\")\n",
        "\n",
        "    # Save the selected answer in session state\n",
        "    st.session_state.selected_answer = selected_option\n",
        "\n",
        "# Submit button logic\n",
        "if st.button(\"Submit\"):\n",
        "    if st.session_state.selected_answer is not None:\n",
        "        # Check if the answer is correct\n",
        "        if st.session_state.selected_answer == st.session_state.correct_answer:\n",
        "            st.session_state.feedback = \"Great job! You got it right.\"\n",
        "            st.session_state.score += 1 # Increment the score when the answer is correct\n",
        "        else:\n",
        "            st.session_state.feedback = f\"Oops! The correct answer was {st.session_state.correct_answer}. Try again!\"\n",
        "    else:\n",
        "        st.session_state.feedback = \"Please select an answer before submitting.\"\n",
        "\n",
        "    st.write(st.session_state.feedback)\n",
        "    st.session_state.submitted = True\n",
        "\n",
        "# Display updated score after each question\n",
        "st.write(f\"Your current score: {st.session_state.score}\")\n",
        "\n",
        "# Option to generate a new question\n",
        "if st.button(\"Next Question\"):\n",
        "    reset_game() # Reset the game to generate a new question\n",
        "    st.session_state.question_generated = False\n",
        "    st.session_state.submitted = False # Reset submission state\n",
        "    st.write(\"Get ready for the next question!\")"
      ],
      "metadata": {
        "colab": {
          "base_uri": "https://localhost:8080/"
        },
        "id": "JpflEPt22Qi5",
        "outputId": "a5ff38c6-314d-4fe7-e170-e7ec984b9302"
      },
      "execution_count": 48,
      "outputs": [
        {
          "output_type": "stream",
          "name": "stdout",
          "text": [
            "Writing app.py\n"
          ]
        }
      ]
    },
    {
      "cell_type": "code",
      "source": [
        "!wget -q -O - ipv4.icanhazip.com"
      ],
      "metadata": {
        "colab": {
          "base_uri": "https://localhost:8080/"
        },
        "id": "lJ-8PqgjVZWn",
        "outputId": "529ececa-7762-4917-cf3f-81aafdd74690"
      },
      "execution_count": 49,
      "outputs": [
        {
          "output_type": "stream",
          "name": "stdout",
          "text": [
            "35.221.157.251\n"
          ]
        }
      ]
    },
    {
      "cell_type": "code",
      "source": [
        "! streamlit run app.py & npx localtunnel --port 8501"
      ],
      "metadata": {
        "colab": {
          "base_uri": "https://localhost:8080/"
        },
        "id": "wastyRFCVfR3",
        "outputId": "96dcf44f-edcf-4c3b-a619-bc28645749ab"
      },
      "execution_count": 50,
      "outputs": [
        {
          "output_type": "stream",
          "name": "stdout",
          "text": [
            "\n",
            "Collecting usage statistics. To deactivate, set browser.gatherUsageStats to false.\n",
            "\u001b[0m\n",
            "\u001b[1G\u001b[0K⠙\u001b[1G\u001b[0K⠹\u001b[1G\u001b[0K⠸\u001b[0m\n",
            "\u001b[34m\u001b[1m  You can now view your Streamlit app in your browser.\u001b[0m\n",
            "\u001b[0m\n",
            "\u001b[34m  Local URL: \u001b[0m\u001b[1mhttp://localhost:8501\u001b[0m\n",
            "\u001b[34m  Network URL: \u001b[0m\u001b[1mhttp://172.28.0.12:8501\u001b[0m\n",
            "\u001b[34m  External URL: \u001b[0m\u001b[1mhttp://35.221.157.251:8501\u001b[0m\n",
            "\u001b[0m\n",
            "\u001b[1G\u001b[0K⠼\u001b[1G\u001b[0K⠴\u001b[1G\u001b[0Kyour url is: https://seven-flies-trade.loca.lt\n",
            "\u001b[34m  Stopping...\u001b[0m\n",
            "^C\n"
          ]
        }
      ]
    }
  ]
}